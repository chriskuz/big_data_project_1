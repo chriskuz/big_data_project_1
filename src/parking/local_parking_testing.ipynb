{
 "cells": [
  {
   "cell_type": "code",
   "execution_count": 37,
   "metadata": {},
   "outputs": [
    {
     "name": "stderr",
     "output_type": "stream",
     "text": [
      "/var/folders/x7/ft4bdn4n2gg_922mtg2wdyfw0000gn/T/ipykernel_82852/2030373170.py:5: DtypeWarning: Columns (18,38) have mixed types. Specify dtype option on import or set low_memory=False.\n",
      "  df = pd.read_csv(hehe)\n"
     ]
    }
   ],
   "source": [
    "import pandas as pd\n",
    "\n",
    "# Load the CSV file into a DataFrame\n",
    "hehe = \"../../data/Parking_Violations.csv\"\n",
    "df = pd.read_csv(hehe)\n"
   ]
  },
  {
   "cell_type": "code",
   "execution_count": 38,
   "metadata": {},
   "outputs": [
    {
     "name": "stdout",
     "output_type": "stream",
     "text": [
      "True\n"
     ]
    }
   ],
   "source": [
    "has_nulls = df.isnull().any(axis=1).any()\n",
    "print (has_nulls)"
   ]
  },
  {
   "cell_type": "code",
   "execution_count": 39,
   "metadata": {},
   "outputs": [
    {
     "name": "stdout",
     "output_type": "stream",
     "text": [
      "Total number of rows: 10803028\n"
     ]
    }
   ],
   "source": [
    "total_rows = df.shape[0]\n",
    "print(\"Total number of rows:\", total_rows)"
   ]
  },
  {
   "cell_type": "code",
   "execution_count": 43,
   "metadata": {},
   "outputs": [
    {
     "name": "stdout",
     "output_type": "stream",
     "text": [
      "Number of null values in 'Violation Time' column: 63\n"
     ]
    }
   ],
   "source": [
    "violation_time_null_count = df['Violation Time'].isnull().sum()\n",
    "print(\"Number of null values in 'Violation Time' column:\", violation_time_null_count)"
   ]
  },
  {
   "cell_type": "code",
   "execution_count": 32,
   "metadata": {},
   "outputs": [
    {
     "name": "stdout",
     "output_type": "stream",
     "text": [
      "0    0143A\n",
      "1    0400P\n",
      "2    0233P\n",
      "3    1120A\n",
      "4    0555P\n",
      "5    0852P\n",
      "6    0215A\n",
      "7    0758A\n",
      "8    1005A\n",
      "9    0845A\n",
      "Name: Violation Time, dtype: object\n"
     ]
    }
   ],
   "source": [
    "head = df[\"Violation Time\"].head(10)\n",
    "print(head)"
   ]
  }
 ],
 "metadata": {
  "kernelspec": {
   "display_name": "base",
   "language": "python",
   "name": "python3"
  },
  "language_info": {
   "codemirror_mode": {
    "name": "ipython",
    "version": 3
   },
   "file_extension": ".py",
   "mimetype": "text/x-python",
   "name": "python",
   "nbconvert_exporter": "python",
   "pygments_lexer": "ipython3",
   "version": "3.12.7"
  }
 },
 "nbformat": 4,
 "nbformat_minor": 2
}
