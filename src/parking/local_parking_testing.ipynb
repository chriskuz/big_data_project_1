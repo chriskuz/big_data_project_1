{
 "cells": [
  {
   "cell_type": "code",
   "execution_count": 1,
   "metadata": {},
   "outputs": [
    {
     "name": "stderr",
     "output_type": "stream",
     "text": [
      "/var/folders/x7/ft4bdn4n2gg_922mtg2wdyfw0000gn/T/ipykernel_84322/2030373170.py:5: DtypeWarning: Columns (18,38) have mixed types. Specify dtype option on import or set low_memory=False.\n",
      "  df = pd.read_csv(hehe)\n"
     ]
    }
   ],
   "source": [
    "import pandas as pd\n",
    "\n",
    "# Load the CSV file into a DataFrame\n",
    "hehe = \"../../data/Parking_Violations.csv\"\n",
    "df = pd.read_csv(hehe)\n"
   ]
  },
  {
   "cell_type": "code",
   "execution_count": 39,
   "metadata": {},
   "outputs": [
    {
     "name": "stdout",
     "output_type": "stream",
     "text": [
      "Total number of rows: 10803028\n"
     ]
    }
   ],
   "source": [
    "total_rows = df.shape[0]\n",
    "print(\"Total number of rows:\", total_rows)"
   ]
  },
  {
   "cell_type": "code",
   "execution_count": 3,
   "metadata": {},
   "outputs": [
    {
     "name": "stdout",
     "output_type": "stream",
     "text": [
      "Number of null values in 'Violation Time' column: 63\n"
     ]
    }
   ],
   "source": [
    "violation_time_null_count = df['Violation Time'].isnull().sum()\n",
    "print(\"Number of null values in 'Violation Time' column:\", violation_time_null_count)"
   ]
  },
  {
   "cell_type": "code",
   "execution_count": 13,
   "metadata": {},
   "outputs": [
    {
     "name": "stdout",
     "output_type": "stream",
     "text": [
      "First 10 values in 'Violation Time' column that do not follow the format HHMM followed by A or P:\n",
      "100498       NaN\n",
      "207517       NaN\n",
      "272345     084/A\n",
      "447069       NaN\n",
      "733330     0.22A\n",
      "743539       NaN\n",
      "1043294      NaN\n",
      "1105771     1237\n",
      "1281788     0557\n",
      "1307867    110+A\n",
      "Name: Violation Time, dtype: object\n"
     ]
    }
   ],
   "source": [
    "# Get the rows that do not match the pattern\n",
    "invalid_values = df[~df['Violation Time'].str.match(pattern, na=False)]['Violation Time']\n",
    "\n",
    "# Print the first 10 invalid values\n",
    "print(\"First 10 values in 'Violation Time' column that do not follow the format HHMM followed by A or P:\")\n",
    "print(invalid_values.head(10))\n"
   ]
  },
  {
   "cell_type": "code",
   "execution_count": 32,
   "metadata": {},
   "outputs": [
    {
     "name": "stdout",
     "output_type": "stream",
     "text": [
      "0    0143A\n",
      "1    0400P\n",
      "2    0233P\n",
      "3    1120A\n",
      "4    0555P\n",
      "5    0852P\n",
      "6    0215A\n",
      "7    0758A\n",
      "8    1005A\n",
      "9    0845A\n",
      "Name: Violation Time, dtype: object\n"
     ]
    }
   ],
   "source": [
    "head = df[\"Violation Time\"].head(10)\n",
    "print(head)"
   ]
  },
  {
   "cell_type": "code",
   "execution_count": 2,
   "metadata": {},
   "outputs": [
    {
     "name": "stdout",
     "output_type": "stream",
     "text": [
      "Index(['Summons Number', 'Plate ID', 'Registration State', 'Plate Type',\n",
      "       'Issue Date', 'Violation Code', 'Vehicle Body Type', 'Vehicle Make',\n",
      "       'Issuing Agency', 'Street Code1', 'Street Code2', 'Street Code3',\n",
      "       'Vehicle Expiration Date', 'Violation Location', 'Violation Precinct',\n",
      "       'Issuer Precinct', 'Issuer Code', 'Issuer Command', 'Issuer Squad',\n",
      "       'Violation Time', 'Time First Observed', 'Violation County',\n",
      "       'Violation In Front Of Or Opposite', 'House Number', 'Street Name',\n",
      "       'Intersecting Street', 'Date First Observed', 'Law Section',\n",
      "       'Sub Division', 'Violation Legal Code', 'Days Parking In Effect    ',\n",
      "       'From Hours In Effect', 'To Hours In Effect', 'Vehicle Color',\n",
      "       'Unregistered Vehicle?', 'Vehicle Year', 'Meter Number',\n",
      "       'Feet From Curb', 'Violation Post Code', 'Violation Description',\n",
      "       'No Standing or Stopping Violation', 'Hydrant Violation',\n",
      "       'Double Parking Violation'],\n",
      "      dtype='object')\n"
     ]
    }
   ],
   "source": [
    "print(df.columns)"
   ]
  },
  {
   "cell_type": "code",
   "execution_count": 18,
   "metadata": {},
   "outputs": [
    {
     "name": "stdout",
     "output_type": "stream",
     "text": [
      "Number of null values in 'Vehicle Make' column: 73050\n"
     ]
    }
   ],
   "source": [
    "vehicle_body_type_null_count = df['Vehicle Make'].isnull().sum()\n",
    "print(\"Number of null values in 'Vehicle Make' column:\", vehicle_body_type_null_count)"
   ]
  },
  {
   "cell_type": "code",
   "execution_count": 17,
   "metadata": {},
   "outputs": [
    {
     "name": "stdout",
     "output_type": "stream",
     "text": [
      "['TOYOT' 'FORD' 'MITSU' ... 'YINO' 'FRIH' 'MEBE']\n"
     ]
    }
   ],
   "source": [
    "unique_vehicle_body_types = df['Vehicle Make'].unique()\n",
    "print(unique_vehicle_body_types)"
   ]
  },
  {
   "cell_type": "code",
   "execution_count": 19,
   "metadata": {},
   "outputs": [
    {
     "name": "stdout",
     "output_type": "stream",
     "text": [
      "Number of null values in 'Vehicle Year' column: 0\n"
     ]
    }
   ],
   "source": [
    "vehicle_year_null_count = df['Vehicle Year'].isnull().sum()\n",
    "print(\"Number of null values in 'Vehicle Year' column:\", vehicle_year_null_count)"
   ]
  },
  {
   "cell_type": "code",
   "execution_count": 38,
   "metadata": {},
   "outputs": [
    {
     "name": "stdout",
     "output_type": "stream",
     "text": [
      "0     BX\n",
      "1     BX\n",
      "2     BX\n",
      "3     NY\n",
      "4     NY\n",
      "5     QN\n",
      "6      K\n",
      "7     BX\n",
      "8     QN\n",
      "9     BX\n",
      "10     Q\n",
      "11    NY\n",
      "12    QN\n",
      "13    BX\n",
      "14     K\n",
      "Name: Violation County, dtype: object\n"
     ]
    }
   ],
   "source": [
    "print(df['Violation County'].head(15))"
   ]
  },
  {
   "cell_type": "code",
   "execution_count": 39,
   "metadata": {},
   "outputs": [
    {
     "name": "stdout",
     "output_type": "stream",
     "text": [
      "['BX' 'NY' 'QN' 'K' 'Q' 'R' 'BK' 'ST' 'MN' nan 'BRONX' 'QNS' 'KINGS']\n"
     ]
    }
   ],
   "source": [
    "unique_violation_counties = df['Violation County'].unique()\n",
    "print(unique_violation_counties)"
   ]
  }
 ],
 "metadata": {
  "kernelspec": {
   "display_name": "base",
   "language": "python",
   "name": "python3"
  },
  "language_info": {
   "codemirror_mode": {
    "name": "ipython",
    "version": 3
   },
   "file_extension": ".py",
   "mimetype": "text/x-python",
   "name": "python",
   "nbconvert_exporter": "python",
   "pygments_lexer": "ipython3",
   "version": "3.12.7"
  }
 },
 "nbformat": 4,
 "nbformat_minor": 2
}
